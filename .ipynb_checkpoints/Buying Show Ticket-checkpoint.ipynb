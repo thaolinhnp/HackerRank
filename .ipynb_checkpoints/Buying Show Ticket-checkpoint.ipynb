{
 "cells": [
  {
   "cell_type": "code",
   "execution_count": null,
   "metadata": {},
   "outputs": [],
   "source": [
    "def waitingTime(tickets, p):\n",
    "    Alex_tickets_remain = tickets[p]\n",
    "    times = 0\n",
    "    \n",
    "    if p == 0 and Alex_tickets_remain == 1:\n",
    "        times = 1\n",
    "        \n",
    "    else: \n",
    "        cur_lst = tickets.copy()\n",
    "        next_lst = cur_lst.copy()\n",
    "        next_lst.remove(cur_lst[0])\n",
    "        if cur_lst[0] > 1:\n",
    "            next_lst.append(cur_lst[0]-1)\n",
    "        times += 1\n",
    "        p -= 1\n",
    "\n",
    "        while Alex_tickets_remain > 0:\n",
    "            if p == 0:\n",
    "                Alex_tickets_remain -= 1\n",
    "            \n",
    "            if len(next_lst) = 0:\n",
    "                break\n",
    "            \n",
    "            else:\n",
    "                cur_lst = next_lst.copy()\n",
    "                next_lst.remove(cur_lst[0])\n",
    "                if cur_lst[0] > 1:\n",
    "                    next_lst.append(cur_lst[0]-1)\n",
    "                times += 1\n",
    "                if p != 0:\n",
    "                    p -= 1\n",
    "                else:\n",
    "                    p = len(next_lst)-1\n",
    "\n",
    "    return times"
   ]
  },
  {
   "cell_type": "code",
   "execution_count": 39,
   "metadata": {
    "ExecuteTime": {
     "end_time": "2020-03-01T08:25:59.424985Z",
     "start_time": "2020-03-01T08:25:59.339215Z"
    }
   },
   "outputs": [
    {
     "name": "stdout",
     "output_type": "stream",
     "text": [
      "[3, 4, 5, 1, 5]\n",
      "[4, 5, 1, 5, 2]\n",
      "3\n",
      "4\n",
      "2\n"
     ]
    }
   ],
   "source": [
    "tickets = [2, 6, 3, 4, 5]\n",
    "p = 2\n",
    "Alex_tickets_remain = tickets[2]\n",
    "times = 0\n",
    "\n",
    "cur_lst = tickets.copy()\n",
    "next_lst = cur_lst.copy()\n",
    "next_lst.remove(cur_lst[0])\n",
    "if cur_lst[0] > 1:\n",
    "    next_lst.append(cur_lst[0]-1)\n",
    "times += 1\n",
    "p -= 1\n",
    "\n",
    "## loop 2\n",
    "cur_lst = next_lst.copy()\n",
    "next_lst = cur_lst.copy()\n",
    "next_lst.remove(cur_lst[0])\n",
    "if cur_lst[0] > 1:\n",
    "    next_lst.append(cur_lst[0]-1)\n",
    "times += 1\n",
    "if p != 0:\n",
    "    p -= 1\n",
    "else:\n",
    "    p = len(next_lst)-1\n",
    "\n",
    "# ## loop 3 - Alex\n",
    "if p == 0:\n",
    "    Alex_tickets_remain -= 1\n",
    "cur_lst = next_lst.copy()\n",
    "next_lst = cur_lst.copy()\n",
    "next_lst.remove(cur_lst[0])\n",
    "if cur_lst[0] > 1:\n",
    "    next_lst.append(cur_lst[0]-1)\n",
    "times += 1\n",
    "if p != 0:\n",
    "    p -= 1\n",
    "else:\n",
    "    p = len(next_lst)-1\n",
    "\n",
    "    \n",
    "# ## loop 4\n",
    "# cur_lst = next_lst.copy()\n",
    "# next_lst = cur_lst.copy()\n",
    "# next_lst.remove(cur_lst[0])\n",
    "# if cur_lst[0] > 1:\n",
    "#     next_lst.append(cur_lst[0]-1)\n",
    "# times += 1\n",
    "\n",
    "# ## loop 5\n",
    "# cur_lst = next_lst.copy()\n",
    "# next_lst = cur_lst.copy()\n",
    "# next_lst.remove(cur_lst[0])\n",
    "# if cur_lst[0] > 1:\n",
    "#     next_lst.append(cur_lst[0]-1)\n",
    "# times += 1\n",
    "\n",
    "# ## loop 6\n",
    "# cur_lst = next_lst.copy()\n",
    "# next_lst = cur_lst.copy()\n",
    "# next_lst.remove(cur_lst[0])\n",
    "# if cur_lst[0] > 1:\n",
    "#     next_lst.append(cur_lst[0]-1)\n",
    "# times += 1\n",
    "    \n",
    "\n",
    "print(cur_lst)\n",
    "print(next_lst)\n",
    "print(times)\n",
    "print(p)\n",
    "print(Alex_tickets_remain)"
   ]
  },
  {
   "cell_type": "code",
   "execution_count": 42,
   "metadata": {
    "ExecuteTime": {
     "end_time": "2020-03-01T08:27:58.194913Z",
     "start_time": "2020-03-01T08:27:58.167956Z"
    }
   },
   "outputs": [
    {
     "data": {
      "text/plain": [
       "12"
      ]
     },
     "execution_count": 42,
     "metadata": {},
     "output_type": "execute_result"
    }
   ],
   "source": [
    "tickets = [2, 6, 3, 4, 5]\n",
    "p = 2\n",
    "Alex_tickets_remain = tickets[p]\n",
    "times = 0\n",
    "\n",
    "cur_lst = tickets.copy()\n",
    "next_lst = cur_lst.copy()\n",
    "next_lst.remove(cur_lst[0])\n",
    "if cur_lst[0] > 1:\n",
    "    next_lst.append(cur_lst[0]-1)\n",
    "times += 1\n",
    "p -= 1\n",
    "\n",
    "while Alex_tickets_remain > 0:\n",
    "    if p == 0:\n",
    "        Alex_tickets_remain -= 1\n",
    "    cur_lst = next_lst.copy()\n",
    "    next_lst = cur_lst.copy()\n",
    "    next_lst.remove(cur_lst[0])\n",
    "    if cur_lst[0] > 1:\n",
    "        next_lst.append(cur_lst[0]-1)\n",
    "    times += 1\n",
    "    if p != 0:\n",
    "        p -= 1\n",
    "    else:\n",
    "        p = len(next_lst)-1\n",
    "\n",
    "times"
   ]
  }
 ],
 "metadata": {
  "kernelspec": {
   "display_name": "Python 3",
   "language": "python",
   "name": "python3"
  },
  "language_info": {
   "codemirror_mode": {
    "name": "ipython",
    "version": 3
   },
   "file_extension": ".py",
   "mimetype": "text/x-python",
   "name": "python",
   "nbconvert_exporter": "python",
   "pygments_lexer": "ipython3",
   "version": "3.6.4"
  },
  "toc": {
   "base_numbering": 1,
   "nav_menu": {},
   "number_sections": true,
   "sideBar": true,
   "skip_h1_title": false,
   "title_cell": "Table of Contents",
   "title_sidebar": "Contents",
   "toc_cell": false,
   "toc_position": {},
   "toc_section_display": true,
   "toc_window_display": false
  }
 },
 "nbformat": 4,
 "nbformat_minor": 2
}

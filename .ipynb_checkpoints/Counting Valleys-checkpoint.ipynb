{
 "cells": [
  {
   "cell_type": "markdown",
   "metadata": {},
   "source": [
    "Gary is an avid hiker. He tracks his hikes meticulously, paying close attention to small details like topography. During his last hike he took exactly  steps. For every step he took, he noted if it was an uphill, U, or a downhill, D step. Gary's hikes start and end at sea level and each step up or down represents a 1 unit change in altitude. We define the following terms:\n",
    "\n",
    "A mountain is a sequence of consecutive steps above sea level, starting with a step up from sea level and ending with a step down to sea level.\n",
    "\n",
    "A valley is a sequence of consecutive steps below sea level, starting with a step down from sea level and ending with a step up to sea level.\n",
    "\n",
    "Given Gary's sequence of up and down steps during his last hike, find and print the number of valleys he walked through.\n",
    "\n",
    "For example, if Gary's path is s =[DDUUUUDD] , he first enters a valley 2 units deep. Then he climbs out an up onto a mountain 2 units high. Finally, he returns to sea level and ends his hike."
   ]
  },
  {
   "cell_type": "code",
   "execution_count": 57,
   "metadata": {
    "ExecuteTime": {
     "end_time": "2020-02-29T08:34:07.260243Z",
     "start_time": "2020-02-29T08:33:49.330197Z"
    }
   },
   "outputs": [
    {
     "name": "stdout",
     "output_type": "stream",
     "text": [
      "10\n",
      "UDUUUDUDDD\n",
      "0\n"
     ]
    }
   ],
   "source": [
    "#!/bin/python3\n",
    "\n",
    "import math\n",
    "import os\n",
    "import random\n",
    "import re\n",
    "import sys\n",
    "from collections import Counter \n",
    "\n",
    "def group_list(lst): \n",
    "    return dict(zip(Counter(lst).keys(), Counter(lst).values())) \n",
    "\n",
    "# Complete the countingValleys function below.\n",
    "def countingValleys(n, s):    \n",
    "    lst_step = list(s)\n",
    "    if len(lst_step) != n:\n",
    "        print('Number of step is not equal to detail of steps!')\n",
    "        \n",
    "    else:\n",
    "        position = 0\n",
    "        topography = []\n",
    "\n",
    "        for i in lst_step:\n",
    "            if i == 'D':\n",
    "                if position == 0:\n",
    "                    topography.append('start_valley')\n",
    "\n",
    "                position = position -1\n",
    "\n",
    "                if position == 0:\n",
    "                    topography.append('end_mountain')\n",
    "            elif i == 'U':\n",
    "                if  position == 0:\n",
    "                    topography.append('start_mountain')\n",
    "\n",
    "                position = position +1\n",
    "\n",
    "                if position == 0:\n",
    "                    topography.append('end_valley')\n",
    "\n",
    "        topography_dict = group_list(topography)\n",
    "        try:\n",
    "            number_valley = min(topography_dict['start_valley'],topography_dict['end_valley'])\n",
    "        except:\n",
    "            number_valley = 0\n",
    "\n",
    "        return number_valley\n",
    "\n",
    "\n",
    "if __name__ == '__main__':\n",
    "#     fptr = open(os.environ['OUTPUT_PATH'], 'w')\n",
    "\n",
    "    n = int(input())\n",
    "\n",
    "    s = input()\n",
    "\n",
    "    result = countingValleys(n, s)\n",
    "    \n",
    "    print(result)\n",
    "\n",
    "#     fptr.write(str(result) + '\\n')\n",
    "\n",
    "#     fptr.close()\n"
   ]
  }
 ],
 "metadata": {
  "kernelspec": {
   "display_name": "Python 3",
   "language": "python",
   "name": "python3"
  },
  "language_info": {
   "codemirror_mode": {
    "name": "ipython",
    "version": 3
   },
   "file_extension": ".py",
   "mimetype": "text/x-python",
   "name": "python",
   "nbconvert_exporter": "python",
   "pygments_lexer": "ipython3",
   "version": "3.6.4"
  },
  "toc": {
   "base_numbering": 1,
   "nav_menu": {},
   "number_sections": true,
   "sideBar": true,
   "skip_h1_title": false,
   "title_cell": "Table of Contents",
   "title_sidebar": "Contents",
   "toc_cell": false,
   "toc_position": {},
   "toc_section_display": true,
   "toc_window_display": false
  }
 },
 "nbformat": 4,
 "nbformat_minor": 2
}

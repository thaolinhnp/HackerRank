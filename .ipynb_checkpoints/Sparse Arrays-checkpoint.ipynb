{
 "cells": [
  {
   "cell_type": "markdown",
   "metadata": {},
   "source": [
    "There is a collection of input strings and a collection of query strings. For each query string, determine how many times it occurs in the list of input strings.\n",
    "\n",
    "For example, given input strings = ['ab','ab','abc'] and queries = ['ab','abc','bc'], we find 2 instances of 'ab', 1 of 'abc' and 0 of 'bc'. For each query, we add an element to our return array, result = [2,1,0]."
   ]
  },
  {
   "cell_type": "code",
   "execution_count": 4,
   "metadata": {
    "ExecuteTime": {
     "end_time": "2020-03-08T09:02:51.969756Z",
     "start_time": "2020-03-08T09:02:40.804795Z"
    }
   },
   "outputs": [
    {
     "name": "stdout",
     "output_type": "stream",
     "text": [
      "3\n",
      "ab\n",
      "ab\n",
      "abc\n",
      "3\n",
      "ab\n",
      "abc\n",
      "bc\n"
     ]
    }
   ],
   "source": [
    "#!/bin/python3\n",
    "\n",
    "import math\n",
    "import os\n",
    "import random\n",
    "import re\n",
    "import sys\n",
    "\n",
    "def countStringInList(string,lst):\n",
    "    count = 0\n",
    "    for i in lst:\n",
    "        if string == i:\n",
    "            count += 1\n",
    "    return count\n",
    "\n",
    "# Complete the matchingStrings function below.\n",
    "def matchingStrings(strings, queries):\n",
    "    res = []\n",
    "    for i in queries:\n",
    "        count = countStringInList(i,strings)\n",
    "        res.append(count)\n",
    "    return res\n",
    "\n",
    "if __name__ == '__main__':\n",
    "#     fptr = open(os.environ['OUTPUT_PATH'], 'w')\n",
    "\n",
    "    strings_count = int(input())\n",
    "\n",
    "    strings = []\n",
    "\n",
    "    for _ in range(strings_count):\n",
    "        strings_item = input()\n",
    "        strings.append(strings_item)\n",
    "\n",
    "    queries_count = int(input())\n",
    "\n",
    "    queries = []\n",
    "\n",
    "    for _ in range(queries_count):\n",
    "        queries_item = input()\n",
    "        queries.append(queries_item)\n",
    "\n",
    "    res = matchingStrings(strings, queries)\n",
    "\n",
    "#     fptr.write('\\n'.join(map(str, res)))\n",
    "#     fptr.write('\\n')\n",
    "\n",
    "#     fptr.close()"
   ]
  }
 ],
 "metadata": {
  "kernelspec": {
   "display_name": "Python 3",
   "language": "python",
   "name": "python3"
  },
  "language_info": {
   "codemirror_mode": {
    "name": "ipython",
    "version": 3
   },
   "file_extension": ".py",
   "mimetype": "text/x-python",
   "name": "python",
   "nbconvert_exporter": "python",
   "pygments_lexer": "ipython3",
   "version": "3.6.4"
  },
  "toc": {
   "base_numbering": 1,
   "nav_menu": {},
   "number_sections": true,
   "sideBar": true,
   "skip_h1_title": false,
   "title_cell": "Table of Contents",
   "title_sidebar": "Contents",
   "toc_cell": false,
   "toc_position": {},
   "toc_section_display": true,
   "toc_window_display": false
  }
 },
 "nbformat": 4,
 "nbformat_minor": 2
}

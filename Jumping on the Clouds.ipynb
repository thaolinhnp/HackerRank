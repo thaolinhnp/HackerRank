{
 "cells": [
  {
   "cell_type": "markdown",
   "metadata": {},
   "source": [
    "Emma is playing a new mobile game that starts with consecutively numbered clouds. Some of the clouds are thunderheads and others are cumulus. She can jump on any cumulus cloud having a number that is equal to the number of the current cloud plus 1 or 2. She must avoid the thunderheads. Determine the minimum number of jumps it will take Emma to jump from her starting postion to the last cloud. It is always possible to win the game.\n",
    "\n",
    "For each game, Emma will get an array of clouds numbered 0 if they are safe or 1 if they must be avoided. For example, c = [0,1,0,0,0,1,0] indexed from 0 .. 6. The number on each cloud is its index in the list so she must avoid the clouds at indexes 1 and 5. She could follow the following two paths: 0-2-4-6 or 0-2-3-4-6. The first path takes 3 jumps while the second takes 4.\n",
    "\n",
    "Print the minimum number of jumps needed to win the game."
   ]
  },
  {
   "cell_type": "code",
   "execution_count": 17,
   "metadata": {
    "ExecuteTime": {
     "end_time": "2020-03-01T05:35:02.602583Z",
     "start_time": "2020-03-01T05:34:53.593740Z"
    }
   },
   "outputs": [
    {
     "name": "stdout",
     "output_type": "stream",
     "text": [
      "1\n",
      "0 1 0 0 0 1 0\n",
      "3\n"
     ]
    }
   ],
   "source": [
    "#!/bin/python3\n",
    "\n",
    "import math\n",
    "import os\n",
    "import random\n",
    "import re\n",
    "import sys\n",
    "\n",
    "# Complete the jumpingOnClouds function below.\n",
    "def jumpingOnClouds(c):\n",
    "    if c[0] != 0:\n",
    "        result = None\n",
    "    else:\n",
    "        lst_can_jump = []\n",
    "        for i in range(0,len(c)):\n",
    "            if c[i] == 0:\n",
    "                lst_can_jump.append(i)\n",
    "\n",
    "        lst_best_jump = []\n",
    "        for i in lst_can_jump:\n",
    "            i_index = lst_can_jump.index(i)\n",
    "            ## insert 1st cloud\n",
    "            if i == 0:\n",
    "                lst_best_jump.append(i)\n",
    "            ## insert last cloud    \n",
    "            elif i == lst_can_jump[-1]:\n",
    "                lst_best_jump.append(i)\n",
    "                \n",
    "            else:\n",
    "                if i - lst_best_jump[-1] == 2:\n",
    "                    lst_best_jump.append(i)\n",
    "                elif lst_can_jump[i_index+1] - lst_best_jump[-1] > 2:\n",
    "                    lst_best_jump.append(i)\n",
    "\n",
    "        result = (len(lst_best_jump) - 1)\n",
    "    return result\n",
    "\n",
    "if __name__ == '__main__':\n",
    "#     fptr = open(os.environ['OUTPUT_PATH'], 'w')\n",
    "\n",
    "    n = int(input())\n",
    "\n",
    "    c = list(map(int, input().rstrip().split()))\n",
    "\n",
    "    result = jumpingOnClouds(c)\n",
    "\n",
    "    print(result)\n",
    "\n",
    "#     fptr.write(str(result) + '\\n')\n",
    "\n",
    "#     fptr.close()\n"
   ]
  }
 ],
 "metadata": {
  "kernelspec": {
   "display_name": "Python 3",
   "language": "python",
   "name": "python3"
  },
  "language_info": {
   "codemirror_mode": {
    "name": "ipython",
    "version": 3
   },
   "file_extension": ".py",
   "mimetype": "text/x-python",
   "name": "python",
   "nbconvert_exporter": "python",
   "pygments_lexer": "ipython3",
   "version": "3.6.4"
  },
  "toc": {
   "base_numbering": 1,
   "nav_menu": {},
   "number_sections": true,
   "sideBar": true,
   "skip_h1_title": false,
   "title_cell": "Table of Contents",
   "title_sidebar": "Contents",
   "toc_cell": false,
   "toc_position": {},
   "toc_section_display": true,
   "toc_window_display": false
  }
 },
 "nbformat": 4,
 "nbformat_minor": 2
}

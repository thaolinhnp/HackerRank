{
 "cells": [
  {
   "cell_type": "markdown",
   "metadata": {},
   "source": [
    "Given a time in 12-hour AM/PM format, convert it to military (24-hour) time.\n",
    "\n",
    "Note: Midnight is 12:00:00AM on a 12-hour clock, and 00:00:00 on a 24-hour clock. Noon is 12:00:00PM on a 12-hour clock, and 12:00:00 on a 24-hour clock."
   ]
  },
  {
   "cell_type": "code",
   "execution_count": null,
   "metadata": {
    "ExecuteTime": {
     "start_time": "2020-03-15T08:56:20.481Z"
    }
   },
   "outputs": [],
   "source": [
    "#!/bin/python3\n",
    "\n",
    "import os\n",
    "import sys\n",
    "\n",
    "#\n",
    "# Complete the timeConversion function below.\n",
    "#\n",
    "def timeConversion(s):\n",
    "    hour = s[0:2]\n",
    "    am = True if s[-2:] == 'AM' else False\n",
    "    if hour == '12' and am:\n",
    "        hour_24 = '00'\n",
    "    elif hour != '12' and am == False:\n",
    "        hour_24 = int(hour) + 12\n",
    "    else:\n",
    "        hour_24 = hour\n",
    "    hour_24\n",
    "    \n",
    "    return str(hour_24) + s[2:-2]\n",
    "\n",
    "if __name__ == '__main__':\n",
    "#     f = open(os.environ['OUTPUT_PATH'], 'w')\n",
    "\n",
    "    s = input()\n",
    "\n",
    "    result = timeConversion(s)\n",
    "\n",
    "#     f.write(result + '\\n')\n",
    "\n",
    "#     f.close()\n"
   ]
  }
 ],
 "metadata": {
  "kernelspec": {
   "display_name": "Python 3",
   "language": "python",
   "name": "python3"
  },
  "language_info": {
   "codemirror_mode": {
    "name": "ipython",
    "version": 3
   },
   "file_extension": ".py",
   "mimetype": "text/x-python",
   "name": "python",
   "nbconvert_exporter": "python",
   "pygments_lexer": "ipython3",
   "version": "3.6.4"
  },
  "toc": {
   "base_numbering": 1,
   "nav_menu": {},
   "number_sections": true,
   "sideBar": true,
   "skip_h1_title": false,
   "title_cell": "Table of Contents",
   "title_sidebar": "Contents",
   "toc_cell": false,
   "toc_position": {},
   "toc_section_display": true,
   "toc_window_display": false
  }
 },
 "nbformat": 4,
 "nbformat_minor": 2
}

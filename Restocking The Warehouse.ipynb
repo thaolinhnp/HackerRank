{
 "cells": [
  {
   "cell_type": "code",
   "execution_count": 8,
   "metadata": {
    "ExecuteTime": {
     "end_time": "2020-03-01T08:49:30.116777Z",
     "start_time": "2020-03-01T08:49:30.107802Z"
    }
   },
   "outputs": [
    {
     "data": {
      "text/plain": [
       "90"
      ]
     },
     "execution_count": 8,
     "metadata": {},
     "output_type": "execute_result"
    }
   ],
   "source": [
    "itemCount =[6, 1, 2, 1] \n",
    "target = 100\n",
    "total = 0\n",
    "total_need = 0\n",
    "\n",
    "for i in itemCount:\n",
    "    total += i\n",
    "    if total < target:\n",
    "        total_need += i\n",
    "        \n",
    "result = abs(target-total_need)\n",
    "result"
   ]
  },
  {
   "cell_type": "code",
   "execution_count": 9,
   "metadata": {
    "ExecuteTime": {
     "end_time": "2020-03-01T08:49:34.206268Z",
     "start_time": "2020-03-01T08:49:34.196293Z"
    }
   },
   "outputs": [
    {
     "data": {
      "text/plain": [
       "20"
      ]
     },
     "execution_count": 9,
     "metadata": {},
     "output_type": "execute_result"
    }
   ],
   "source": [
    "itemCount =[10, 20, 30, 40, 15] \n",
    "target = 80\n",
    "total = 0\n",
    "total_need = 0\n",
    "\n",
    "for i in itemCount:\n",
    "    if total < target:\n",
    "        total_need += i\n",
    "    total += i\n",
    "    \n",
    "result = abs(target-total_need)\n",
    "result"
   ]
  }
 ],
 "metadata": {
  "kernelspec": {
   "display_name": "Python 3",
   "language": "python",
   "name": "python3"
  },
  "language_info": {
   "codemirror_mode": {
    "name": "ipython",
    "version": 3
   },
   "file_extension": ".py",
   "mimetype": "text/x-python",
   "name": "python",
   "nbconvert_exporter": "python",
   "pygments_lexer": "ipython3",
   "version": "3.6.4"
  },
  "toc": {
   "base_numbering": 1,
   "nav_menu": {},
   "number_sections": true,
   "sideBar": true,
   "skip_h1_title": false,
   "title_cell": "Table of Contents",
   "title_sidebar": "Contents",
   "toc_cell": false,
   "toc_position": {},
   "toc_section_display": true,
   "toc_window_display": false
  }
 },
 "nbformat": 4,
 "nbformat_minor": 2
}
